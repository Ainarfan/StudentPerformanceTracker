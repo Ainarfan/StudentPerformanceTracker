{
  "nbformat": 4,
  "nbformat_minor": 0,
  "metadata": {
    "colab": {
      "provenance": []
    },
    "kernelspec": {
      "name": "python3",
      "display_name": "Python 3"
    },
    "language_info": {
      "name": "python"
    }
  },
  "cells": [
    {
      "cell_type": "markdown",
      "source": [
        "Student Class"
      ],
      "metadata": {
        "id": "IusfulH5d-gF"
      }
    },
    {
      "cell_type": "code",
      "execution_count": 1,
      "metadata": {
        "id": "1cXo0Vz1dxpp"
      },
      "outputs": [],
      "source": [
        "class Student:\n",
        "    def __init__(self, name, scores):\n",
        "        self.name = name\n",
        "        self.scores = scores\n",
        "\n",
        "    # Calculate average score\n",
        "    def calculate_average(self):\n",
        "        return sum(self.scores) / len(self.scores)\n",
        "\n",
        "    # Check if student is passing\n",
        "    def get_status(self):\n",
        "        passing_threshold = 40\n",
        "        for score in self.scores:\n",
        "            if score < passing_threshold:\n",
        "                return \"Needs Improvement\"\n",
        "        return \"Passing\""
      ]
    },
    {
      "cell_type": "markdown",
      "source": [
        "PerformanceTracker Class"
      ],
      "metadata": {
        "id": "lC297a2ueNc3"
      }
    },
    {
      "cell_type": "code",
      "source": [
        "class PerformanceTracker:\n",
        "    def __init__(self):\n",
        "        self.students = {}\n",
        "\n",
        "    # Add a student to the tracker\n",
        "    def add_student(self, name, scores):\n",
        "        student = Student(name, scores)\n",
        "        self.students[name] = student\n",
        "\n",
        "    # Calculate overall class average\n",
        "    def calculate_class_average(self):\n",
        "        if not self.students:\n",
        "            return 0\n",
        "        total_scores = sum(student.calculate_average() for student in self.students.values())\n",
        "        return total_scores / len(self.students)\n",
        "\n",
        "    # Display performance of each student\n",
        "    def display_student_performance(self):\n",
        "        print(\"\\n\" + \"-\"*30)\n",
        "        print(\"📊 Student Performance Report 📊\")\n",
        "        print(\"-\"*30)\n",
        "        for name, student in self.students.items():\n",
        "            average_score = student.calculate_average()\n",
        "            status = student.get_status()\n",
        "            print(f\"➡️ Student: {name}\")\n",
        "            print(f\"   - Average Score: {average_score:.2f}\")\n",
        "            print(f\"   - Status: {status}\")\n",
        "            print(\"-\"*30)\n",
        "\n",
        "        # Display class average\n",
        "        class_average = self.calculate_class_average()\n",
        "        print(f\"📈 Class Average Score: {class_average:.2f}\")\n",
        "        print(\"=\"*30)"
      ],
      "metadata": {
        "id": "pqgxeuF1eVsL"
      },
      "execution_count": 2,
      "outputs": []
    },
    {
      "cell_type": "markdown",
      "source": [
        "StudentPerformanceTrackerClass"
      ],
      "metadata": {
        "id": "OMcATJf8eZ6I"
      }
    },
    {
      "cell_type": "code",
      "source": [
        "def get_student_data():\n",
        "    print(\"\\n\" + \"=\"*30)\n",
        "    print(\"📝 Student Data Input 📝\")\n",
        "    print(\"=\"*30)\n",
        "    while True:\n",
        "        try:\n",
        "            # Input student name\n",
        "            name = input(\"➡️ [INPUT] Enter the student's name (or type 'done' to finish): \").strip()\n",
        "            if not name:\n",
        "                print(\"⚠️ [ERROR] Student name cannot be empty. Please enter a valid name.\")\n",
        "                continue\n",
        "\n",
        "            if name.lower() == 'done':\n",
        "                print(\"✔️ [INFO] Input session ended.\")\n",
        "                break\n",
        "\n",
        "            scores = []\n",
        "            # Input scores for subjects\n",
        "            for subject in ['Math', 'Science', 'English']:\n",
        "                while True:\n",
        "                    try:\n",
        "                        score = input(f\"➡️ [INPUT] Enter {subject} score for {name} (0 to 100): \").strip()\n",
        "                        if not score:\n",
        "                            print(\"⚠️ [ERROR] Score cannot be empty. Please enter a valid number.\")\n",
        "                            continue\n",
        "\n",
        "                        score = float(score)\n",
        "                        # Ensure the score is an integer\n",
        "                        if score != int(score):\n",
        "                            print(\"⚠️ [ERROR] Scores must be whole numbers. Please enter an integer value.\")\n",
        "                            continue\n",
        "\n",
        "                        score = int(score)\n",
        "                        # Ensure the score is within 0-100\n",
        "                        if score < 0 or score > 100:\n",
        "                            print(\"⚠️ [ERROR] Score must be between 0 and 100. Please enter a valid score.\")\n",
        "                            continue\n",
        "\n",
        "                        scores.append(score)\n",
        "                        break\n",
        "\n",
        "                    except ValueError:\n",
        "                        print(\"⚠️ [ERROR] Invalid input. Please enter a numeric integer value.\")\n",
        "\n",
        "            yield name, scores\n",
        "\n",
        "        except Exception as e:\n",
        "            print(f\"❌ [ERROR] An unexpected error occurred: {e}\")\n",
        "\n",
        "def main():\n",
        "    print(\"🚀 Welcome to the Student Performance Tracker 🚀\")\n",
        "    tracker = PerformanceTracker()\n",
        "\n",
        "    # Input and store student data\n",
        "    for name, scores in get_student_data():\n",
        "        tracker.add_student(name, scores)\n",
        "\n",
        "    # Display results\n",
        "    tracker.display_student_performance()\n",
        "    print(\"🏁 Program finished successfully. 🏁\")\n",
        "\n",
        "if __name__ == \"__main__\":\n",
        "    main()"
      ],
      "metadata": {
        "colab": {
          "base_uri": "https://localhost:8080/"
        },
        "id": "ZFP_zHk5ehWQ",
        "outputId": "d0d15ee2-7c70-4482-f0be-9d6f1effd8d1"
      },
      "execution_count": 3,
      "outputs": [
        {
          "output_type": "stream",
          "name": "stdout",
          "text": [
            "🚀 Welcome to the Student Performance Tracker 🚀\n",
            "\n",
            "==============================\n",
            "📝 Student Data Input 📝\n",
            "==============================\n",
            "➡️ [INPUT] Enter the student's name (or type 'done' to finish): aina\n",
            "➡️ [INPUT] Enter Math score for aina (0 to 100): 88\n",
            "➡️ [INPUT] Enter Science score for aina (0 to 100): 98\n",
            "➡️ [INPUT] Enter English score for aina (0 to 100): 87\n",
            "➡️ [INPUT] Enter the student's name (or type 'done' to finish): iqra\n",
            "➡️ [INPUT] Enter Math score for iqra (0 to 100): 66\n",
            "➡️ [INPUT] Enter Science score for iqra (0 to 100): 78\n",
            "➡️ [INPUT] Enter English score for iqra (0 to 100): 56\n",
            "➡️ [INPUT] Enter the student's name (or type 'done' to finish): mubara\n",
            "➡️ [INPUT] Enter Math score for mubara (0 to 100): 80\n",
            "➡️ [INPUT] Enter Science score for mubara (0 to 100): 55\n",
            "➡️ [INPUT] Enter English score for mubara (0 to 100): 45\n",
            "➡️ [INPUT] Enter the student's name (or type 'done' to finish): done\n",
            "✔️ [INFO] Input session ended.\n",
            "\n",
            "------------------------------\n",
            "📊 Student Performance Report 📊\n",
            "------------------------------\n",
            "➡️ Student: aina\n",
            "   - Average Score: 91.00\n",
            "   - Status: Passing\n",
            "------------------------------\n",
            "➡️ Student: iqra\n",
            "   - Average Score: 66.67\n",
            "   - Status: Passing\n",
            "------------------------------\n",
            "➡️ Student: mubara\n",
            "   - Average Score: 60.00\n",
            "   - Status: Passing\n",
            "------------------------------\n",
            "📈 Class Average Score: 72.56\n",
            "==============================\n",
            "🏁 Program finished successfully. 🏁\n"
          ]
        }
      ]
    }
  ]
}